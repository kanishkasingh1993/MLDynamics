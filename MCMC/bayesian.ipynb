{
 "cells": [
  {
   "cell_type": "code",
   "execution_count": null,
   "id": "f56d1c29",
   "metadata": {},
   "outputs": [],
   "source": [
    "import numpy as np\n",
    "import torch\n",
    "from scipy.integrate import simps\n",
    "import scipy.stats as stats"
   ]
  },
  {
   "cell_type": "code",
   "execution_count": null,
   "id": "040a7b6b",
   "metadata": {},
   "outputs": [],
   "source": [
    "def likelihood(overlap_predicted):\n",
    "    \"\"\"\n",
    "    Calculates the likelihood of the observed data given the predicted overlap.\n",
    "    \"\"\"\n",
    "    return stats.norm.pdf(1.0, loc=overlap_predicted, scale=0.1)\n"
   ]
  },
  {
   "cell_type": "code",
   "execution_count": null,
   "id": "1e49cd99",
   "metadata": {},
   "outputs": [],
   "source": [
    "def pop_i (x_grid,psi_ref,psi_sim):\n",
    "    \n",
    "    \"\"\"\n",
    "    Calculates the overlap of a wavefunction with another.\n",
    "    \"\"\"\n",
    "    \n",
    "    overlap= abs(x_grid[0]-x_grid[1])*np.sum(np.conj(psi_sim) * psi_ref)\n",
    "    fitness=np.abs(overlap**2)\n",
    "    \n",
    "    return fitness\n",
    "    "
   ]
  },
  {
   "cell_type": "code",
   "execution_count": null,
   "id": "811306ef",
   "metadata": {},
   "outputs": [],
   "source": [
    "\n",
    "# Define the prior sampler function\n",
    "def prior(param_1_prior,param_2_prior):\n",
    "    \"\"\"\n",
    "    Samples parameter values from the prior distribution.\n",
    "    \"\"\"\n",
    "    param_1 = param_1_prior.rvs()\n",
    "    param_2 = param_2_prior.rvs()\n",
    "    return [param_1, param_2]"
   ]
  },
  {
   "cell_type": "code",
   "execution_count": null,
   "id": "fd5c1d7f",
   "metadata": {},
   "outputs": [],
   "source": [
    "# Define the acceptance function\n",
    "def acceptance(current_params, prop_params,x_grid,y_grid,param_1_prior,param_2_prior,pot_params):\n",
    "    \"\"\"\n",
    "    Calculates the acceptance probability for the proposed parameter values.\n",
    "    \"\"\"\n",
    "    \n",
    "    sig=0.8\n",
    "    t0=2.0\n",
    "    t1=3\n",
    "    k_curr= current_params[0]\n",
    "    k1_curr= current_params[1]\n",
    "    k_prop=prop_params[0]\n",
    "    k1_prop=prop_params[1]\n",
    "    \n",
    "    curr_f_params= {'sig':sig,'t0':t0,'t1':t1,'k':k_curr,'k1':k1_curr}\n",
    "    prop_f_params= {'sig':sig,'t0':t0,'t1':t1,'k':k_prop,'k1':k1_prop}\n",
    "    \n",
    "    curr_score=complete_simulation(x_grid,y_grid,pot_params,curr_f_params)\n",
    "    current_likelihood = likelihood(curr_score)\n",
    "\n",
    "    prop_score=complete_simulation(x_grid,y_grid,pot_params,prop_f_params)\n",
    "    proposed_likelihood = likelihood(prop_score)\n",
    "    \n",
    "    prior_current = np.prod([param_1_prior.pdf(current_params[0]), param_2_prior.pdf(current_params[1])])\n",
    "    prior_proposed = np.prod([param_1_prior.pdf(prop_params[0]), param_2_prior.pdf(prop_params[1])])\n",
    "    \n",
    "    #prior_current = prior(range_1,range_2)\n",
    "    #prior_proposed = prior(range_1,range_2)\n",
    "    \n",
    "    return min(1, (proposed_likelihood * prior_proposed) / (current_likelihood * prior_current)),prop_score,curr_score"
   ]
  }
 ],
 "metadata": {
  "kernelspec": {
   "display_name": "pinnsfinal",
   "language": "python",
   "name": "pinnsfinal"
  },
  "language_info": {
   "codemirror_mode": {
    "name": "ipython",
    "version": 3
   },
   "file_extension": ".py",
   "mimetype": "text/x-python",
   "name": "python",
   "nbconvert_exporter": "python",
   "pygments_lexer": "ipython3",
   "version": "3.10.4"
  }
 },
 "nbformat": 4,
 "nbformat_minor": 5
}
