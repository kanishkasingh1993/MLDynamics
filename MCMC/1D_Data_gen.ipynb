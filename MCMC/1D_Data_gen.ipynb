{
 "cells": [
  {
   "cell_type": "code",
   "execution_count": 1,
   "id": "e5c39676",
   "metadata": {},
   "outputs": [],
   "source": [
    "#Start by creating the dataset. We want to make a system for the potential *not* including\n",
    "#the eigen functions explicitly. But we first estimate the wavefns or what gaussians they resemble.\n",
    "\n",
    "#Import libraries\n",
    "%matplotlib widget\n",
    "import numpy as np \n",
    "import torch\n",
    "from scipy.integrate import simps\n",
    "import pickle\n",
    "import scipy.stats as stats"
   ]
  },
  {
   "cell_type": "code",
   "execution_count": 2,
   "id": "5c127d62",
   "metadata": {},
   "outputs": [
    {
     "name": "stdout",
     "output_type": "stream",
     "text": [
      "Warning: Cannot change to a different GUI toolkit: notebook. Using widget instead.\n"
     ]
    }
   ],
   "source": [
    "#Import helper functions \n",
    "\n",
    "from FourierGridMethod import Fourier_Grid,normalize_wfn,side_wp,FourierGridHamiltonian\n",
    "from Generate_fields import random_perturbation\n",
    "from potfields import potential,electric_field,alpha,complete_simulation,chirped_pulse\n",
    "from new_split import split_op\n",
    "from plot_utils import animate_dyn,plot_eig,plot_perturbation,plot_wavepacket\n",
    "from bayesian import prior"
   ]
  },
  {
   "cell_type": "code",
   "execution_count": 3,
   "id": "7bd0c7bc",
   "metadata": {},
   "outputs": [],
   "source": [
    "#Setting variables for the simulation\n",
    "#the hamiltonian for the system is \n",
    "\n",
    "# Define the x and y coordinates of the grid\n",
    "\n",
    "x_min, x_max = -90*np.pi/180, 90*np.pi/180\n",
    "y_min, y_max = 0, 7.25\n",
    "x_size, y_size = 300, 300\n",
    "\n",
    "#Define x and y grids\n",
    "x_grid = np.linspace(x_min, x_max, x_size)\n",
    "y_grid = np.linspace(y_min, y_max, y_size)\n",
    "\n",
    "#Define meshgrid terms for 3D plots and making perturbations\n",
    "x_dim, t_dim = np.meshgrid(x_grid, y_grid)\n"
   ]
  },
  {
   "cell_type": "code",
   "execution_count": 4,
   "id": "77a70d31",
   "metadata": {},
   "outputs": [],
   "source": [
    "rng = np.random.RandomState(seed=123)\n",
    "\n",
    "#Scale for unit conversion to au\n",
    "ev_scale=1/(27*1e3)\n",
    "\n",
    "#Values for inertia \n",
    "IBr=8911925\n",
    "IF=1864705\n",
    "\n",
    "#Calculate Irel\n",
    "Irel=(IBr*IF)/(IBr+IF)"
   ]
  },
  {
   "cell_type": "code",
   "execution_count": 5,
   "id": "7c0d29dd",
   "metadata": {},
   "outputs": [],
   "source": [
    "#Generate the double well potential\n",
    "V_pot=potential(x_grid,y_grid)\n",
    "\n",
    "#this pot is in ev therefore we need to convert that to au so we multiply this by 1/27\n",
    "V_pot_au=V_pot*(1/27)\n",
    "#%matplotlib inline\n",
    "#V_plot=plot_perturbation(x_grid,y_grid,V_pot)"
   ]
  },
  {
   "cell_type": "code",
   "execution_count": 6,
   "id": "6f27a92f",
   "metadata": {},
   "outputs": [],
   "source": [
    "#coherence and variance in amplitude for term1\n",
    "phi_coh_x = 12.2\n",
    "phi_coh_y = 0.27\n",
    "phi_amp_var=11.9\n",
    "\n",
    "#Generate the n_v term and plot it. This term is in meV\n",
    "phi_perturb=random_perturbation(x_size,y_size,phi_coh_x,phi_coh_y,phi_amp_var)\n",
    "# We convert this to au by multiplying it by /27*10e3\n",
    "phi_perturb_au=(1/27*1e3)*(phi_perturb)\n",
    "#%matplotlib inline\n",
    "#phi_noise_plot=plot_perturbation(x_grid,y_grid,phi_perturb)\n",
    "\n"
   ]
  },
  {
   "cell_type": "code",
   "execution_count": 7,
   "id": "4b568d45",
   "metadata": {},
   "outputs": [
    {
     "name": "stdout",
     "output_type": "stream",
     "text": [
      "0.009727305886810018\n",
      "0.009727305886810018\n"
     ]
    }
   ],
   "source": [
    "#Add the two terms and compute fourier grid hamiltonian at steps t=0 and t=T\n",
    "#These serve as the initial wavepacket for the laser system, and the final wavepacket for the comparision\n",
    "nstates=20\n",
    "V_vib=V_pot_au+phi_perturb_au\n",
    "#V_vib_ev=ev_scale*(V_pot+phi_perturb)\n",
    "\n",
    "#FGH at step 0\n",
    "E0,psi0=Fourier_Grid(Irel,x_size,x_max-x_min,V_vib[0])\n",
    "test_wf=normalize_wfn(psi0,x_grid,5)\n",
    "\n",
    "alpha_1=np.vectorize(alpha)(x_grid)\n",
    "\n",
    "Et,psit=Fourier_Grid(Irel,x_size,x_max-x_min,V_vib[y_size-1])\n",
    "psit=normalize_wfn(psi0,x_grid,nstates)\n",
    "    \n",
    "psi_start=side_wp(psi0,-1)\n",
    "psi_ref=side_wp(psit,1)\n",
    "    \n",
    "pot_params={'psi_start':psi_start,'psi_ref':psi_ref,'V_vib':V_vib,'alpha':alpha_1, 'I_rel': Irel}\n"
   ]
  },
  {
   "cell_type": "code",
   "execution_count": 9,
   "id": "d3249568-22ba-40aa-ae51-f8bf24ef97a3",
   "metadata": {},
   "outputs": [],
   "source": [
    "# A0 = 1                    # Peak amplitude #Variable range (1,5)\n",
    "# t0 = 3*990                      # Center time #fixed\n",
    "# sigma = t0               # Standard deviation #variable (0.5,2)\n",
    "# f0 = 0                      # Central frequency #variable (2,5)\n",
    "# beta =0.0005                # Chirp rate fixed\n",
    "# phi = 1.51*np.pi   \n",
    "\n",
    "t0=3*990\n",
    "\n",
    "\n",
    "param_1 = 1.0 # initial value for the first field parameter which is amplitude\n",
    "param_2 = 1.0 # initial value for the second field parameter which center time\n",
    "param_3=2.0\n",
    "params = [param_1, param_2,param_3] # current parameter values\n",
    "\n",
    "# Define the range bounds for the parameters\n",
    "param_1_bounds = [0, 1] #max_x\n",
    "param_2_bounds = [1*990, 5*990] #max_y*\n",
    "param_3_bounds = [0.7*t0, 1.2*t0] #sigma\n",
    "\n",
    "\n",
    "pp=0.1\n",
    "t0=3.5\n",
    "\n",
    "\n",
    "\n",
    "param_1_prior = stats.truncnorm((param_1_bounds[0] - np.mean(param_1_bounds)) / np.std(param_1_bounds),\n",
    "                                (param_1_bounds[1] - np.mean(param_1_bounds)) / np.std(param_1_bounds),\n",
    "                                loc=np.mean(param_1_bounds),\n",
    "                                scale=np.std(param_1_bounds))\n",
    "param_2_prior = stats.truncnorm((param_2_bounds[0] - np.mean(param_2_bounds)) / np.std(param_2_bounds),\n",
    "                                (param_2_bounds[1] - np.mean(param_2_bounds)) / np.std(param_2_bounds),\n",
    "                                loc=np.mean(param_2_bounds),\n",
    "                                scale=np.std(param_2_bounds))\n",
    "param_3_prior = stats.truncnorm((param_3_bounds[0] - np.mean(param_3_bounds)) / np.std(param_3_bounds),\n",
    "                                (param_3_bounds[1] - np.mean(param_3_bounds)) / np.std(param_3_bounds),\n",
    "                                loc=np.mean(param_3_bounds),\n",
    "                                scale=np.std(param_3_bounds))\n",
    "\n",
    "\n",
    "#max_x=4.5\n",
    "#max_y=5\n",
    "#max_pp=0.1\n",
    "#sigma=1\n",
    "#t0=3.5\n",
    " \n",
    "\n",
    "    \n",
    "# k_curr= max_x\n",
    "# k1_curr= max_y\n",
    "# t_curr=max_pp\n",
    "# phi=np.pi\n",
    "\n",
    "#chirped_pulse(t_dim, k, t0, sig, k1, t1, phi)\n",
    "#prop_f_params= {'sig':sigma,'t0':t0,'t1':t_curr,'k':k_curr,'k1':k1_curr}\n",
    "\n"
   ]
  },
  {
   "cell_type": "code",
   "execution_count": 10,
   "id": "d50caac7",
   "metadata": {},
   "outputs": [],
   "source": [
    "#from scipy.stats import norm\n",
    "#from scipy.optimize import curve_fit\n",
    "#(muf, stdf), covf = curve_fit(norm.pdf, x_grid, test_wf[:,0], p0=[0, 1])\n",
    "\n",
    "#(mu, sigma) = norm.fit(test_wf[:,0])"
   ]
  },
  {
   "cell_type": "code",
   "execution_count": 11,
   "id": "5aee4d09",
   "metadata": {},
   "outputs": [],
   "source": [
    "U_fin=[]\n",
    "D_fin=[]\n",
    "ux_fin=[]\n",
    "V_fin=[]"
   ]
  },
  {
   "cell_type": "code",
   "execution_count": 12,
   "id": "6178a517",
   "metadata": {},
   "outputs": [
    {
     "name": "stdout",
     "output_type": "stream",
     "text": [
      "2416.058886073417\n",
      "4182.848733323107\n",
      "3213.7502362547134\n",
      "2427.487440671483\n",
      "1198.838490217066\n"
     ]
    },
    {
     "name": "stderr",
     "output_type": "stream",
     "text": [
      "/p/project/hai_ml_xas/MCMC/Generate_fields.py:40: RuntimeWarning: invalid value encountered in true_divide\n",
      "  scaled_noise = (filtered_noise / std_noise) * np.sqrt(amp_var)\n"
     ]
    },
    {
     "name": "stdout",
     "output_type": "stream",
     "text": [
      "1221.7943305518959\n",
      "2625.634736110661\n",
      "2989.758566228192\n",
      "2546.8754513312347\n",
      "1803.9135801559491\n"
     ]
    }
   ],
   "source": [
    "n_samp=10\n",
    "ntrain=90\n",
    "timestep=990\n",
    "rabi=split_op(xmin=x_min,xmax=x_max,Nx=x_size,nt=y_size,dt=timestep,t_end=timestep*y_size, device=None,dtype=torch.float64)\n",
    "V_set=[]\n",
    "u_set=[]\n",
    "U_set=[]\n",
    "D_set=[]\n",
    "ux_set=[]\n",
    "#from functorch import vmap, grad\n",
    "\n",
    "for i in range(n_samp):\n",
    "    \n",
    "    \n",
    "    prop_params = prior(param_1_prior,param_2_prior,param_3_prior)\n",
    "    #prop_params=[5,5,1]\n",
    "    \n",
    "    p1_prop=prop_params[0]\n",
    "    p2_prop=prop_params[1]\n",
    "    p3_prop=prop_params[2]\n",
    "    \n",
    "    t0_prop=3.5\n",
    "    pp=0.1\n",
    "    \n",
    "   # k_prop=4.894472361809045\n",
    "   # k1_prop=2.2562814070351758\n",
    "   # t_prop=3.869346733668342\n",
    "        \n",
    "    \n",
    "    #4.894472361809045 2.2562814070351758 3.869346733668342\n",
    "    \n",
    "    curr_f_params= {'sig':p3_prop,'t0':t0_prop,'t1':pp,'k':p2_prop,'k1':p1_prop}\n",
    "    task='gen'\n",
    "\n",
    "    U,D,ux,V=complete_simulation(task,x_grid,y_grid,pot_params,curr_f_params)\n",
    "\n",
    "    \n",
    "    #u0=(torch.from_numpy(gaussian_approximation)).to(torch.complex64)\n",
    "    \n",
    "    V_vib=torch.from_numpy(V)\n",
    "    #U,D,ux=rabi.split_op(u0,V_vib)\n",
    "    \n",
    "    u_set.append(torch.from_numpy(psi_start))\n",
    "    V_set.append(V_vib)\n",
    "    U_set.append(U)\n",
    "    D_set.append(D)\n",
    "    ux_set.append(ux)\n",
    "   \n",
    "V=torch.stack(V_set)\n",
    "u0=torch.stack(u_set)\n",
    "u0 = u0.to(torch.complex64)\n",
    "ux=torch.stack(ux_set)\n",
    "U=torch.stack(U_set)\n",
    "#U,D,ux=torch.vmap(rabi.split_op)(u0,V)\n",
    "U_real=torch.view_as_real(U) \n",
    "D_save=torch.stack(D_set)\n"
   ]
  },
  {
   "cell_type": "code",
   "execution_count": 13,
   "id": "3fda77f6",
   "metadata": {},
   "outputs": [],
   "source": [
    "dat_dict={'V': V , 'u0': u0,  'ux':ux, 'U_real':U_real,'gridx':x_grid,'gridt':y_grid}\n",
    "\n",
    "with open('data.pickle', 'wb') as handle:\n",
    "    pickle.dump(dat_dict, handle, protocol=pickle.HIGHEST_PROTOCOL)"
   ]
  },
  {
   "cell_type": "code",
   "execution_count": 14,
   "id": "0c34f86b",
   "metadata": {},
   "outputs": [
    {
     "name": "stdout",
     "output_type": "stream",
     "text": [
      "torch.Size([10, 300, 300, 2])\n"
     ]
    }
   ],
   "source": [
    "print(U_real.shape)"
   ]
  },
  {
   "cell_type": "code",
   "execution_count": 15,
   "id": "9854c106",
   "metadata": {},
   "outputs": [
    {
     "data": {
      "application/vnd.jupyter.widget-view+json": {
       "model_id": "9328a6863bc745b9b2aac52725721e2e",
       "version_major": 2,
       "version_minor": 0
      },
      "image/png": "[encoded data removed]",
      "text/html": [
       "\n",
       "            <div style=\"display: inline-block;\">\n",
       "                <div class=\"jupyter-widgets widget-label\" style=\"text-align: center;\">\n",
       "                    Figure\n",
       "                </div>\n",
       "                <img src='data:image/png;base64,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' width=640.0/>\n",
       "            </div>\n",
       "        "
      ],
      "text/plain": [
       "Canvas(toolbar=Toolbar(toolitems=[('Home', 'Reset original view', 'home', 'home'), ('Back', 'Back to previous …"
      ]
     },
     "metadata": {},
     "output_type": "display_data"
    }
   ],
   "source": [
    "\n",
    "#plot_wavepacket(x_grid,V_vib[0],)\n",
    "t=animate_dyn(x_min,x_max,0,100,x_grid,D_save[0],V[0])"
   ]
  },
  {
   "cell_type": "code",
   "execution_count": null,
   "id": "246c2252",
   "metadata": {},
   "outputs": [],
   "source": [
    "print(type(U),type(ux),type(D),type(V_vib))"
   ]
  },
  {
   "cell_type": "code",
   "execution_count": null,
   "id": "b185b745",
   "metadata": {},
   "outputs": [],
   "source": [
    "test_wf=normalize_wfn(psi0,x_grid,5)"
   ]
  },
  {
   "cell_type": "code",
   "execution_count": null,
   "id": "54299791",
   "metadata": {},
   "outputs": [],
   "source": [
    "%matplotlib inline\n",
    "plot_wavepacket(x_grid,V_vib[0],psi0[:,0])"
   ]
  },
  {
   "cell_type": "code",
   "execution_count": null,
   "id": "b67a4a43",
   "metadata": {},
   "outputs": [],
   "source": [
    "psi0[:,0]"
   ]
  },
  {
   "cell_type": "code",
   "execution_count": 41,
   "id": "ee0063b1",
   "metadata": {},
   "outputs": [
    {
     "data": {
      "image/png": "[encoded data removed]",
      "text/plain": [
       "<Figure size 640x480 with 1 Axes>"
      ]
     },
     "metadata": {},
     "output_type": "display_data"
    }
   ],
   "source": [
    "import numpy as np\n",
    "t = 990*y_grid # Time points\n",
    "A0 = 1                    # Peak amplitude #Variable range (1,5)\n",
    "t0 = 3*990                      # Center time #fixed\n",
    "sigma = t0               # Standard deviation #variable (0.5,2)\n",
    "f0 = 0                      # Central frequency #variable (2,5)\n",
    "beta =0.0005                # Chirp rate fixed\n",
    "phi = 1.51*np.pi                   # Phase offset #fixed\n",
    "#print(t)\n",
    "pulse = chirped_pulse(t, A0, t0, sigma, f0, beta, phi)\n",
    "#print ( A0 * np.exp(-0.5 * ((t - t0) / sigma) ** 2) )\n",
    "# Plot the pulse\n",
    "%matplotlib inline\n",
    "import matplotlib.pyplot as plt\n",
    "plt.clf()\n",
    "plt.plot(t, pulse)\n",
    "plt.xlabel('Time (a.u.)')\n",
    "plt.ylabel('Amplitude')\n",
    "plt.show()"
   ]
  },
  {
   "cell_type": "code",
   "execution_count": 33,
   "id": "326dfff3-2e6f-4b64-9e6c-9418b58356e4",
   "metadata": {},
   "outputs": [
    {
     "name": "stdout",
     "output_type": "stream",
     "text": [
      "[ 0.92977649  0.55879451 -0.003066   -0.55983546 -0.92477054 -0.98181403\n",
      " -0.71965091 -0.22961615  0.32882262  0.78140877  0.99317628  0.90677634\n",
      "  0.55498025  0.04596448 -0.47195026 -0.85425061 -0.99982028 -0.87570879\n",
      " -0.52177014 -0.03581602  0.45502563  0.8281222   0.99534028  0.92221695\n",
      "  0.63271609  0.1998573  -0.27419719 -0.68298801 -0.93946315 -0.99344036\n",
      " -0.8397009  -0.51597585 -0.09230541  0.34514776  0.71200757  0.94162799\n",
      "  0.99623161  0.87168307  0.59573012  0.22076501 -0.18699332 -0.55961706\n",
      " -0.83868843 -0.98386959 -0.97775092 -0.82665632 -0.55777082 -0.2134765\n",
      "  0.15591834  0.4998019   0.77410919  0.94655019  0.99971786  0.93194248\n",
      "  0.75607945  0.49666016  0.18597831 -0.14027125 -0.44722639 -0.70449561\n",
      " -0.88887612 -0.9859859  -0.99079211 -0.90714195 -0.74649116 -0.52607644\n",
      " -0.26679308  0.00897607  0.27937207  0.52475535  0.72898571  0.88024303\n",
      "  0.97139419  0.99994981  0.9676821   0.87998987  0.74510157  0.57320317\n",
      "  0.37556694  0.16374279 -0.0511429  -0.25895258 -0.4509539  -0.62008706\n",
      " -0.76109351 -0.87052329 -0.94664323 -0.98926968 -0.99954965 -0.97971239\n",
      " -0.93281069 -0.86246775 -0.77264179 -0.66741701 -0.55082622 -0.42670759\n",
      " -0.29859556 -0.16964416 -0.04257983  0.0803203   0.19722868  0.30675079\n",
      "  0.40789575  0.50003807  0.58287387  0.65637447  0.72073969  0.77635263\n",
      "  0.82373731  0.86352009  0.89639532  0.92309552  0.94436605  0.96094407\n",
      "  0.97354152  0.98283166  0.98943866  0.99392996  0.99681071  0.99851998\n",
      "  0.99942833  0.99983632  0.99997374  0.99999918  0.99999998  0.99999212\n",
      "  0.99992026  0.99965773  0.99900664  0.99769807  0.99539272  0.99168198\n",
      "  0.98608996  0.97807656  0.96704223  0.9523346   0.93325762  0.90908354\n",
      "  0.87906831  0.8424708   0.79857613  0.74672348  0.68633843  0.61696967\n",
      "  0.53832977  0.45033928  0.3531729   0.24730631  0.13356146  0.01314769\n",
      " -0.11230449 -0.24072053 -0.36957412 -0.49589869 -0.61632267 -0.72713258\n",
      " -0.82436718 -0.90394539 -0.96182847 -0.99421534 -0.99776704 -0.96985314\n",
      " -0.90880975 -0.81419472 -0.68702229 -0.52995641 -0.34743933 -0.14573159\n",
      "  0.06715977  0.28168464  0.48709877  0.67196304  0.82478627  0.93479029\n",
      "  0.99275974  0.99192239  0.92879003  0.80387721  0.62220794  0.39352075\n",
      "  0.13209307 -0.14387295 -0.41332676 -0.65388749 -0.84372976 -0.96370612\n",
      " -0.99951976 -0.94371627 -0.79723658 -0.57027385 -0.28221152  0.03950807\n",
      "  0.36162617  0.64832392  0.86523889  0.98383515  0.98559314  0.86541162\n",
      "  0.63361774  0.31607876 -0.04789148 -0.40984978 -0.71843179 -0.92675373\n",
      " -0.99999244 -0.92192556 -0.69918825 -0.3621974   0.03788009  0.43611672\n",
      "  0.76403534  0.96157623  0.98878464  0.83492271  0.52287589  0.10736665\n",
      " -0.33343953 -0.71200492 -0.94886646 -0.99007855 -0.82078631 -0.47140328\n",
      " -0.01409964  0.45070712  0.81578837  0.9921608   0.93196857  0.64317916\n",
      "  0.19141557 -0.31296271 -0.74069359 -0.97675685 -0.95248074 -0.66750951\n",
      " -0.1943185   0.3378296   0.77685699  0.99140401  0.91161956  0.55430649\n",
      "  0.02297352 -0.51966149 -0.90043182 -0.99167203 -0.75626778 -0.26543433\n",
      "  0.31945773  0.79792511  0.99905892  0.84456015  0.38243165 -0.22385331\n",
      " -0.75051134 -0.99558381 -0.8583218  -0.38415469  0.24573914  0.78066715\n",
      "  0.99974153  0.80538828  0.27082595 -0.38268855 -0.87456424 -0.98550884\n",
      " -0.65845476 -0.03229752  0.61235324  0.97685903  0.88442306  0.3702616\n",
      " -0.32551027 -0.86606141 -0.98064492 -0.60379859  0.08199702  0.7293097\n",
      "  0.99991043  0.74411212  0.08923386 -0.61735469 -0.98938766 -0.81465351\n",
      " -0.1817584   0.55757284  0.98002134  0.83439705  0.19688107 -0.56097474\n",
      " -0.98444341 -0.80986626 -0.13514203  0.62699263  0.99718959  0.73304637\n",
      " -0.00508234 -0.74319363 -0.99452819 -0.58399027  0.2218797   0.8800633 ]\n"
     ]
    }
   ],
   "source": [
    "print(np.cos(2 * np.pi * (f0 + beta * (t - t0)) * (t - t0)/sigma + phi))"
   ]
  },
  {
   "cell_type": "code",
   "execution_count": 31,
   "id": "ee01d1c8-1266-4b4d-ab6b-fd6a4c8e12f0",
   "metadata": {},
   "outputs": [
    {
     "data": {
      "text/plain": [
       "array([-18623.7382416 , -18473.51114697, -18323.27917607, -18173.04232891,\n",
       "       -18022.80060548, -17872.55400579, -17722.30252983, -17572.0461776 ,\n",
       "       -17421.78494911, -17271.51884435, -17121.24786332, -16970.97200602,\n",
       "       -16820.69127246, -16670.40566264, -16520.11517654, -16369.81981418,\n",
       "       -16219.51957556, -16069.21446066, -15918.9044695 , -15768.58960208,\n",
       "       -15618.26985838, -15467.94523843, -15317.6157422 , -15167.28136971,\n",
       "       -15016.94212095, -14866.59799592, -14716.24899463, -14565.89511707,\n",
       "       -14415.53636325, -14265.17273315, -14114.8042268 , -13964.43084417,\n",
       "       -13814.05258528, -13663.66945012, -13513.2814387 , -13362.88855101,\n",
       "       -13212.49078705, -13062.08814683, -12911.68063034, -12761.26823758,\n",
       "       -12610.85096856, -12460.42882327, -12310.00180171, -12159.56990389,\n",
       "       -12009.1331298 , -11858.69147944, -11708.24495282, -11557.79354993,\n",
       "       -11407.33727077, -11256.87611535, -11106.41008366, -10955.93917571,\n",
       "       -10805.46339148, -10654.982731  , -10504.49719424, -10354.00678122,\n",
       "       -10203.51149193, -10053.01132638,  -9902.50628455,  -9751.99636647,\n",
       "        -9601.48157211,  -9450.96190149,  -9300.4373546 ,  -9149.90793145,\n",
       "        -8999.37363203,  -8848.83445634,  -8698.29040439,  -8547.74147617,\n",
       "        -8397.18767168,  -8246.62899093,  -8096.06543391,  -7945.49700062,\n",
       "        -7794.92369107,  -7644.34550525,  -7493.76244317,  -7343.17450481,\n",
       "        -7192.5816902 ,  -7041.98399931,  -6891.38143216,  -6740.77398874,\n",
       "        -6590.16166906,  -6439.5444731 ,  -6288.92240089,  -6138.2954524 ,\n",
       "        -5987.66362765,  -5837.02692663,  -5686.38534935,  -5535.7388958 ,\n",
       "        -5385.08756598,  -5234.4313599 ,  -5083.77027755,  -4933.10431893,\n",
       "        -4782.43348405,  -4631.7577729 ,  -4481.07718548,  -4330.3917218 ,\n",
       "        -4179.70138185,  -4029.00616563,  -3878.30607315,  -3727.6011044 ,\n",
       "        -3576.89125938,  -3426.1765381 ,  -3275.45694055,  -3124.73246674,\n",
       "        -2974.00311666,  -2823.26889031,  -2672.52978769,  -2521.78580881,\n",
       "        -2371.03695366,  -2220.28322225,  -2069.52461457,  -1918.76113062,\n",
       "        -1767.99277041,  -1617.21953392,  -1466.44142118,  -1315.65843216,\n",
       "        -1164.87056688,  -1014.07782534,   -863.28020752,   -712.47771344,\n",
       "         -561.6703431 ,   -410.85809648,   -260.0409736 ,   -109.21897446,\n",
       "           41.60790095,    192.43965263,    343.27628058,    494.11778479,\n",
       "          644.96416527,    795.81542201,    946.67155503,   1097.5325643 ,\n",
       "         1248.39844985,   1399.26921166,   1550.14484974,   1701.02536408,\n",
       "         1851.91075469,   2002.80102157,   2153.69616472,   2304.59618413,\n",
       "         2455.5010798 ,   2606.41085175,   2757.32549996,   2908.24502443,\n",
       "         3059.16942518,   3210.09870219,   3361.03285546,   3511.97188501,\n",
       "         3662.91579082,   3813.86457289,   3964.81823123,   4115.77676584,\n",
       "         4266.74017672,   4417.70846386,   4568.68162727,   4719.65966694,\n",
       "         4870.64258289,   5021.63037509,   5172.62304357,   5323.62058831,\n",
       "         5474.62300932,   5625.63030659,   5776.64248013,   5927.65952994,\n",
       "         6078.68145601,   6229.70825836,   6380.73993696,   6531.77649184,\n",
       "         6682.81792298,   6833.86423038,   6984.91541406,   7135.971474  ,\n",
       "         7287.0324102 ,   7438.09822267,   7589.16891141,   7740.24447642,\n",
       "         7891.32491769,   8042.41023523,   8193.50042904,   8344.59549911,\n",
       "         8495.69544545,   8646.80026805,   8797.90996692,   8949.02454206,\n",
       "         9100.14399347,   9251.26832114,   9402.39752508,   9553.53160528,\n",
       "         9704.67056175,   9855.81439449,  10006.96310349,  10158.11668876,\n",
       "        10309.2751503 ,  10460.4384881 ,  10611.60670217,  10762.77979251,\n",
       "        10913.95775911,  11065.14060198,  11216.32832112,  11367.52091652,\n",
       "        11518.71838819,  11669.92073613,  11821.12796033,  11972.3400608 ,\n",
       "        12123.55703753,  12274.77889054,  12426.0056198 ,  12577.23722534,\n",
       "        12728.47370714,  12879.71506521,  13030.96129954,  13182.21241014,\n",
       "        13333.46839701,  13484.72926015,  13635.99499955,  13787.26561521,\n",
       "        13938.54110715,  14089.82147535,  14241.10671982,  14392.39684055,\n",
       "        14543.69183755,  14694.99171082,  14846.29646035,  14997.60608615,\n",
       "        15148.92058821,  15300.23996655,  15451.56422115,  15602.89335201,\n",
       "        15754.22735914,  15905.56624254,  16056.91000221,  16208.25863814,\n",
       "        16359.61215034,  16510.9705388 ,  16662.33380353,  16813.70194453,\n",
       "        16965.0749618 ,  17116.45285533,  17267.83562513,  17419.22327119,\n",
       "        17570.61579352,  17722.01319212,  17873.41546698,  18024.82261811,\n",
       "        18176.23464551,  18327.65154917,  18479.0733291 ,  18630.4999853 ,\n",
       "        18781.93151776,  18933.36792649,  19084.80921149,  19236.25537275,\n",
       "        19387.70641028,  19539.16232408,  19690.62311414,  19842.08878047,\n",
       "        19993.55932306,  20145.03474192,  20296.51503705,  20448.00020845,\n",
       "        20599.49025611,  20750.98518004,  20902.48498023,  21053.98965669,\n",
       "        21205.49920942,  21357.01363841,  21508.53294367,  21660.0571252 ,\n",
       "        21811.58618299,  21963.12011705,  22114.65892738,  22266.20261397,\n",
       "        22417.75117683,  22569.30461596,  22720.86293135,  22872.42612301,\n",
       "        23023.99419094,  23175.56713513,  23327.14495559,  23478.72765232,\n",
       "        23630.31522531,  23781.90767457,  23933.50500009,  24085.10720188,\n",
       "        24236.71427994,  24388.32623427,  24539.94306486,  24691.56477172,\n",
       "        24843.19135484,  24994.82281423,  25146.45914989,  25298.10036181,\n",
       "        25449.74645   ,  25601.39741446,  25753.05325519,  25904.71397218,\n",
       "        26056.37956543,  26208.05003496,  26359.72538075,  26511.4056028 ])"
      ]
     },
     "execution_count": 31,
     "metadata": {},
     "output_type": "execute_result"
    }
   ],
   "source": [
    "2 * np.pi * (f0 + beta * (t - t0)) * (t - t0)/sigma"
   ]
  },
  {
   "cell_type": "code",
   "execution_count": null,
   "id": "e79b9eeb-23fd-41b4-8b9f-9a7e1580230b",
   "metadata": {},
   "outputs": [],
   "source": []
  }
 ],
 "metadata": {
  "kernelspec": {
   "display_name": "PyDeepLearning-2023.5",
   "language": "python",
   "name": "pydeeplearning"
  },
  "language_info": {
   "codemirror_mode": {
    "name": "ipython",
    "version": 3
   },
   "file_extension": ".py",
   "mimetype": "text/x-python",
   "name": "python",
   "nbconvert_exporter": "python",
   "pygments_lexer": "ipython3",
   "version": "3.10.4"
  }
 },
 "nbformat": 4,
 "nbformat_minor": 5
}
