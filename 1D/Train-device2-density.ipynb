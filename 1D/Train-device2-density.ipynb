{
 "cells": [
  {
   "cell_type": "code",
   "execution_count": 16,
   "id": "f592d517-89cf-4e66-b4f5-77aacd217e99",
   "metadata": {},
   "outputs": [],
   "source": [
    "import pickle \n",
    "import torch\n",
    "import torch.nn.functional as F\n",
    "import torch.nn as nn\n",
    "import numpy as np\n",
    "from matplotlib import animation\n",
    "from sklearn.utils import shuffle\n",
    "from FNO2D import FNO2d, H1Loss, DataLoader2D\n",
    "from plot_utils import comp_dyn\n",
    "import os\n",
    "import matplotlib.pyplot as plt\n",
    "%matplotlib inline\n",
    "cwd = os.getcwd()"
   ]
  },
  {
   "cell_type": "code",
   "execution_count": 3,
   "id": "4c883eb1-2f44-4f35-96c4-6b13f4abe4dc",
   "metadata": {
    "tags": []
   },
   "outputs": [],
   "source": [
    "import os\n",
    "os.environ[\"CUDA_DEVICE_ORDER\"] = \"PCI_BUS_ID\"\n",
    "os.environ[\"CUDA_VISIBLE_DEVICES\"] = \"0,1,2,3\""
   ]
  },
  {
   "cell_type": "code",
   "execution_count": 4,
   "id": "a76d52ba-54c0-41f4-aba7-2221e7f122ac",
   "metadata": {
    "tags": []
   },
   "outputs": [],
   "source": [
    "random_seed = 1997\n",
    "torch.manual_seed(random_seed)\n",
    "torch.cuda.manual_seed(random_seed)\n",
    "torch.backends.cudnn.deterministic = True\n",
    "torch.backends.cudnn.benchmark = False\n",
    "np.random.seed(random_seed)"
   ]
  },
  {
   "cell_type": "code",
   "execution_count": 5,
   "id": "84ac3791-2f70-4a76-b01a-1d1e250709ca",
   "metadata": {},
   "outputs": [],
   "source": [
    "ntrain=4000\n",
    "ntest=6000\n",
    "batchsize=20\n",
    "epochs=300\n",
    "scaling = 100000\n",
    "frames1 = 0\n",
    "frames2 = nt = 150\n",
    "nx = 128\n",
    "timestep=990*(300/nt)\n",
    "modes1 = 75\n",
    "modes2 = 64\n",
    "width = 128\n",
    "learning_rate = 0.0001\n",
    "gamma = 1\n",
    "device = torch.device(\"cuda:2\" if torch.cuda.is_available() else \"cpu\")\n",
    "video_idx = [1,2,3,4,5]\n",
    "data_filename = 'data-gaussian-pulse-10000'\n",
    "data_path = '/data/'+data_filename+'.pickle'\n",
    "save_path = '/model/'+data_filename+'.pt'\n",
    "videoname = '/result/'+data_filename+'-'\n",
    "running_name = data_filename\n",
    "\n",
    "test_path = '/p/project/hai_ml_xas/KaHei/double-well-new/data/data-gaussian-pulse-test.pickle'"
   ]
  },
  {
   "cell_type": "code",
   "execution_count": 6,
   "id": "f065be31-f452-4795-aedc-5e3d5d79a40b",
   "metadata": {},
   "outputs": [],
   "source": [
    "def expect_value(density, x_max = 90*np.pi/180, x_min = -90*np.pi/180, nx = 128, nt=150):\n",
    "    all_expect_pos = np.zeros(nt)\n",
    "    dx = (x_max-x_min)/nx\n",
    "    for i in range(nt):\n",
    "        Expect_pos = 0\n",
    "        for j, x in enumerate(x_grid):\n",
    "            expected = x*(density[i][j])*dx\n",
    "            Expect_pos += expected\n",
    "        all_expect_pos[i] = Expect_pos\n",
    "    return all_expect_pos"
   ]
  },
  {
   "cell_type": "markdown",
   "id": "bb755b3a-115c-4e6e-8332-035dd939e0e0",
   "metadata": {
    "tags": []
   },
   "source": [
    "# Training function"
   ]
  },
  {
   "cell_type": "markdown",
   "id": "70261b37-ffba-42e3-b381-d36e766e1fdc",
   "metadata": {
    "tags": []
   },
   "source": [
    "## Train model"
   ]
  },
  {
   "cell_type": "code",
   "execution_count": 7,
   "id": "710ace54-a549-49a8-a98e-178fbd00f7b0",
   "metadata": {
    "tags": []
   },
   "outputs": [],
   "source": [
    "def train_model(model,train_loader,epochs,device, learning_rate=0.0001, gamma = 0.9):\n",
    "    H1 = H1Loss(d=2, fix_x_bnd=True, fix_y_bnd=True, fix_z_bnd=True)\n",
    "    H1_phy = H1Loss(d=1, fix_x_bnd=True, fix_y_bnd=True, fix_z_bnd=True)\n",
    "    learning_rate = learning_rate\n",
    "    scheduler_step = 30\n",
    "    scheduler_gamma = gamma\n",
    "    optimizer = torch.optim.Adam(model.parameters(), lr=learning_rate, weight_decay=1e-4)\n",
    "    scheduler =  torch.optim.lr_scheduler.StepLR(optimizer, step_size=scheduler_step, gamma=scheduler_gamma)\n",
    "    train_loss=[]\n",
    "\n",
    "    start = torch.cuda.Event(enable_timing=True)\n",
    "    end = torch.cuda.Event(enable_timing=True)\n",
    "    start.record()\n",
    "    end.record()\n",
    "    \n",
    "    for e in range(epochs):\n",
    "        train_mse = 0\n",
    "        train_h1 = 0\n",
    "        phy_loss = 0\n",
    "        model.train()        \n",
    "        for x,v,y in train_loader:\n",
    "            x = x.to(device).float()\n",
    "            y = y.to(device)\n",
    "            optimizer.zero_grad()\n",
    "            \n",
    "            out = model(x).view(y.shape[0],y.shape[1],y.shape[2],y.shape[3])\n",
    "            mse = F.mse_loss(out, y, reduction='mean')\n",
    "            h1 = H1(out, y)\n",
    "            y_f = y[:,:,-1,:]\n",
    "            out_f = out[:,:,-1,:]\n",
    "            pl = H1_phy(out_f, y_f)\n",
    "            \n",
    "            h1.backward()\n",
    "            optimizer.step()\n",
    "            scheduler.step()\n",
    "       \n",
    "            train_mse += mse.item()\n",
    "            train_h1 += h1.item()\n",
    "            phy_loss += pl.item()\n",
    "        \n",
    "        train_mse/= ntrain\n",
    "        train_h1 /= ntrain    \n",
    "        phy_loss /= ntrain\n",
    "\n",
    "        if (e%10==0):\n",
    "            print(e, '      ', train_h1, train_mse, phy_loss)\n",
    "        \n",
    "        if e == epochs-1:\n",
    "            print(e, '      ', train_h1, train_mse, phy_loss)\n",
    "            print('Training is done.')\n",
    "        \n",
    "        train_loss.append([train_h1,train_mse])    \n",
    "    \n",
    "    torch.cuda.synchronize()\n",
    "\n",
    "    print()\n",
    "    print('total running time (GPU): ', start.elapsed_time(end)/(1000*60), 'min')\n",
    "    return train_loss"
   ]
  },
  {
   "cell_type": "markdown",
   "id": "ff2dde58-3fdf-47ab-9f81-02c783ef80a4",
   "metadata": {
    "tags": []
   },
   "source": [
    "## Training, prediction and saving function"
   ]
  },
  {
   "cell_type": "code",
   "execution_count": 8,
   "id": "ec4dd080-0678-4013-96d2-32a0f3ab988b",
   "metadata": {},
   "outputs": [],
   "source": [
    "def trainNsave(data_path, save_path, videoname, ntrain=900,ntest=100,timestep=990,batchsize=20,epochs=30, modes1=20, modes2=20, width=20,\n",
    "               device = torch.device(\"cuda:0\" if torch.cuda.is_available() else \"cpu\"), save=True, scaling = 100000, frames1 = 0, frames2 = 300, learning_rate = 0.0001, gamma=0.9, video_idx = [0,5,10,15]):\n",
    "    print('Training: ', running_name)\n",
    "    with open(data_path, 'rb') as handle:\n",
    "        data_dict = pickle.load(handle)\n",
    "\n",
    "    V=data_dict.get('V')\n",
    "    u0=data_dict.get('u0')\n",
    "    U_real=data_dict.get('U_real')\n",
    "    gridx=data_dict.get('gridx')\n",
    "    gridt=data_dict.get('gridt')\n",
    "        \n",
    "    x=torch.view_as_complex(U_real.contiguous())\n",
    "    dens=(x.abs())**2\n",
    "    dens = torch.stack([dens], dim=1)\n",
    "    u0, dens, V = shuffle(u0, dens, V, random_state=0)\n",
    "    dataset=DataLoader2D(u0,dens,V,timestep, scaling, frames1, frames2)\n",
    "\n",
    "    train_loader = dataset.make_loader(gridx,gridt,ntrain, batchsize, start=0, train=True)\n",
    "    test_loader = dataset.make_loader(gridx,gridt,ntest, batchsize, start=ntrain, train=False)\n",
    "\n",
    "    model = FNO2d(width=width, modes1=modes1, modes2=modes2, lifting_input = 4, output_channel = 1)\n",
    "    model = model.to(device)\n",
    "    \n",
    "    print('Training...')\n",
    "    print('epochs             H1              MSE            Boundry H1 Loss')\n",
    "    l1 = train_model(model,train_loader,epochs,device,learning_rate=learning_rate, gamma=gamma)\n",
    "\n",
    "    model.eval()\n",
    "    V_out=[]\n",
    "    pred_out=[]\n",
    "    true_out=[]\n",
    "    H1 = H1Loss(d=2)\n",
    "    test_h1 = 0.0\n",
    "    test_mse = 0.0\n",
    "    print()\n",
    "    print('Testing...')\n",
    "    with torch.no_grad():\n",
    "        for i, (x,v,y) in enumerate(test_loader):\n",
    "            x = x.to(device).float()\n",
    "            y = y.to(device)\n",
    "            out = model(x).view(y.shape[0],y.shape[1],y.shape[2],y.shape[3])\n",
    "            mse = F.mse_loss(out, y, reduction='mean')\n",
    "            h1 = H1(out, y)\n",
    "            \n",
    "            pred_out.append(out)\n",
    "            V_out.append(v)\n",
    "            true_out.append(y)\n",
    "                \n",
    "            test_mse += mse.item()\n",
    "            test_h1 += h1.item()\n",
    "\n",
    "        test_mse /= ntest\n",
    "        test_h1 /= ntest\n",
    "        print('Done with prediction')\n",
    "        print('H1Loss: ', test_h1)\n",
    "        print('mse: ', test_mse)\n",
    "        print()\n",
    "\n",
    "    if save:\n",
    "        torch.save(model, save_path)\n",
    "        print('saved model')\n",
    "        x_min, x_max = -90*np.pi/180, 90*np.pi/180\n",
    "        x_size = len(pred_out[0][0][0][0])\n",
    "        x_grid = np.linspace(x_min, x_max, x_size)\n",
    "        \n",
    "        for i in video_idx:\n",
    "            x=pred_out[0][i][0]\n",
    "            x_true=true_out[0][i][0]\n",
    "            v1=V_out[0][i]\n",
    "\n",
    "            t=comp_dyn(x_min,x_max,x_grid,x.cpu(),x_true.cpu(),v1, frames = len(x),play=False,dt=0.024189)\n",
    "            writervideo = animation.FFMpegWriter(fps=20)\n",
    "            t.save(videoname + str(i) + '.mp4', writer = writervideo)\n",
    "            print(\"saved video \" + str(i))\n",
    "        \n",
    "        print('Done!')\n",
    "        return pred_out, V_out, true_out, l1, model\n",
    "    else:\n",
    "        print('Done!')\n",
    "        return pred_out, V_out, true_out, l1, model"
   ]
  },
  {
   "cell_type": "markdown",
   "id": "98722f98-c1e9-4004-bbda-6044ef5b5344",
   "metadata": {
    "tags": []
   },
   "source": [
    "# Real training and saving process"
   ]
  },
  {
   "cell_type": "code",
   "execution_count": 9,
   "id": "17e654f8-1002-4c8f-a349-7d1cb39e0d43",
   "metadata": {},
   "outputs": [
    {
     "name": "stdout",
     "output_type": "stream",
     "text": [
      "Training:  data-gaussian-pulse-10000\n",
      "input shape:  torch.Size([4000, 4, 150, 128])\n",
      "output shape:  torch.Size([4000, 1, 150, 128])\n",
      "Training...\n",
      "epochs             H1              MSE            Boundry H1 Loss\n",
      "0        0.8514142038822174 0.0292718895226717 0.9850066442489624\n",
      "10        0.3795706087350845 0.0033570289984345436 0.5697412134408951\n",
      "20        0.3073138498067856 0.0021221379190683367 0.46605721199512484\n",
      "30        0.2763534963130951 0.0016964514162391424 0.4132550290822983\n",
      "40        0.24613907152414322 0.001342022965895012 0.3697433695793152\n",
      "50        0.22700768303871155 0.0011501870146021246 0.33609046137332915\n",
      "60        0.2071133250594139 0.000954993290361017 0.3062017081975937\n",
      "70        0.196638354241848 0.0008699090292211621 0.28640782552957533\n",
      "80        0.1864115470647812 0.0008010535363573581 0.2686124175786972\n",
      "90        0.17237618803977967 0.0006690177116543054 0.25071449875831603\n",
      "100        0.16345692747831345 0.0005983207921963185 0.23828828114271164\n",
      "110        0.15799148094654084 0.0005761581171536818 0.22890567350387572\n",
      "120        0.1469637141227722 0.0004874192512943409 0.21735558086633683\n",
      "130        0.14001980817317963 0.00044081882247701287 0.20989631813764573\n",
      "140        0.13886974877119065 0.00044115714577492324 0.20599466854333878\n",
      "150        0.13249320682883262 0.0003973715990432538 0.19696772587299347\n",
      "160        0.13416867026686669 0.0004057027550879866 0.19524606239795686\n",
      "170        0.1324060252904892 0.00039158615842461585 0.19135843259096147\n",
      "180        0.12177520716190338 0.0003308454881771468 0.1831957076191902\n",
      "190        0.11971430262923241 0.0003141443535569124 0.18025673234462739\n",
      "200        0.11442346486449241 0.0002895953518454917 0.1745987377166748\n",
      "210        0.11455158758163451 0.0002884525905246846 0.17484579765796662\n",
      "220        0.11204049661755562 0.00026939947897335515 0.1710370272397995\n",
      "230        0.11671970590949059 0.0002929726109141484 0.1722562739253044\n",
      "240        0.11046181106567383 0.0002575748309027404 0.1660908946990967\n",
      "250        0.10431718483567237 0.00022849466049228794 0.16117158046364785\n",
      "260        0.10350908756256104 0.00022490661137271673 0.1592338399887085\n",
      "270        0.10059210866689682 0.0002112058341735974 0.15579745936393738\n",
      "280        0.10188461735844612 0.00021887300035450607 0.15507487499713898\n",
      "290        0.10308838790655137 0.0002262138377991505 0.15523181265592575\n",
      "299        0.0990146367251873 0.00020419976580888033 0.15194602152705192\n",
      "Training is done.\n",
      "\n",
      "total running time (GPU):  8.156799773375193e-06 min\n",
      "\n",
      "Testing...\n",
      "Done with prediction\n",
      "H1Loss:  0.2457107957204183\n",
      "mse:  0.0010894746175035834\n",
      "\n",
      "saved model\n",
      "saved video 1\n",
      "saved video 2\n",
      "saved video 3\n",
      "saved video 4\n",
      "saved video 5\n",
      "Done!\n",
      "CPU times: user 10h 38min 50s, sys: 1min 19s, total: 10h 40min 10s\n",
      "Wall time: 4h 51min 52s\n"
     ]
    }
   ],
   "source": [
    "%%time\n",
    "pred_out, V_out, true_out, l1, model = trainNsave(data_path=data_path, save_path=save_path, videoname=videoname,\n",
    "                                           ntrain=ntrain,ntest=ntest,epochs=epochs, modes1=modes1, modes2=modes2, width=width, batchsize=batchsize, \n",
    "                                           device=device, save=True, scaling = scaling, frames1 = frames1, frames2 = frames2, learning_rate=learning_rate, gamma=gamma, video_idx = video_idx)"
   ]
  },
  {
   "cell_type": "code",
   "execution_count": 13,
   "id": "ee9d751f-b0b4-4b39-81a2-89c3a8acf63f",
   "metadata": {},
   "outputs": [
    {
     "data": {
      "image/png": "[encoded data removed]",
      "text/plain": [
       "<Figure size 640x480 with 1 Axes>"
      ]
     },
     "metadata": {},
     "output_type": "display_data"
    },
    {
     "data": {
      "image/png": "[encoded data removed]",
      "text/plain": [
       "<Figure size 640x480 with 1 Axes>"
      ]
     },
     "metadata": {},
     "output_type": "display_data"
    }
   ],
   "source": [
    "l1 = np.array(l1)\n",
    "loss_h1 = l1[:,0]\n",
    "loss_mse = l1[:,1]\n",
    "\n",
    "plt.close()\n",
    "plt.plot(np.linspace(1,epochs,epochs), loss_h1)\n",
    "plt.title('H1 Loss versus epoches')\n",
    "plt.ylabel('H1 Loss')\n",
    "plt.xlabel('epoches')\n",
    "plt.savefig('/p/project/hai_ml_xas/KaHei/double-well-new/pic/FNO-density-h1loss.png')\n",
    "plt.show()\n",
    "\n",
    "plt.close()\n",
    "plt.plot(np.linspace(1,epochs,epochs), loss_mse)\n",
    "plt.title('Mean square error versus epoches')\n",
    "plt.ylabel('Mse')\n",
    "plt.xlabel('epoches')\n",
    "plt.savefig('/p/project/hai_ml_xas/KaHei/double-well-new/pic/FNO-density-mse.png')\n",
    "plt.show()"
   ]
  },
  {
   "cell_type": "code",
   "execution_count": 12,
   "id": "7f95ddd8-ace8-4c74-9b78-d5738afee034",
   "metadata": {
    "tags": []
   },
   "outputs": [
    {
     "data": {
      "text/plain": [
       "(300,)"
      ]
     },
     "execution_count": 12,
     "metadata": {},
     "output_type": "execute_result"
    }
   ],
   "source": [
    "l1[:,0].shape"
   ]
  },
  {
   "cell_type": "markdown",
   "id": "a1ceb87d-2651-4ae9-8d6f-450091891981",
   "metadata": {},
   "source": [
    "# Testing with the highest score"
   ]
  },
  {
   "cell_type": "code",
   "execution_count": 7,
   "id": "458d73f9-562b-4b50-a683-108767a63649",
   "metadata": {},
   "outputs": [],
   "source": [
    "params = {'sig': 1.5225027541551555, 't0': 0, 'beta': 0.1, 'A0': 0.019927467186978617, 'f0': 0.0948961733916297}"
   ]
  },
  {
   "cell_type": "code",
   "execution_count": 8,
   "id": "b821fb55-0fa3-4ba2-995f-3c8c23e3a7e8",
   "metadata": {
    "tags": []
   },
   "outputs": [],
   "source": [
    "with open(test_path, 'rb') as handle:\n",
    "        test_dict = pickle.load(handle)\n",
    "        \n",
    "V=test_dict.get('V')\n",
    "u0=test_dict.get('u0')\n",
    "U_real=test_dict.get('U_real')\n",
    "gridx=test_dict.get('gridx')\n",
    "gridt=test_dict.get('gridt')"
   ]
  },
  {
   "cell_type": "code",
   "execution_count": 9,
   "id": "c783efe9-14e1-4ccc-8a28-e609868353e6",
   "metadata": {
    "tags": []
   },
   "outputs": [],
   "source": [
    "x=torch.view_as_complex(U_real.contiguous())\n",
    "dens=(x.abs())**2\n",
    "dens = torch.stack([dens], dim=1)"
   ]
  },
  {
   "cell_type": "code",
   "execution_count": 10,
   "id": "506b2114-e3fe-418b-89a0-ff704a3855a1",
   "metadata": {
    "tags": []
   },
   "outputs": [],
   "source": [
    "dataset=DataLoader2D(u0,dens,V,timestep, scaling, frames1, frames2)"
   ]
  },
  {
   "cell_type": "code",
   "execution_count": 11,
   "id": "565c053c-d449-42c6-b460-c44fe4088832",
   "metadata": {
    "tags": []
   },
   "outputs": [
    {
     "name": "stdout",
     "output_type": "stream",
     "text": [
      "input shape:  torch.Size([1, 4, 150, 128])\n",
      "output shape:  torch.Size([1, 1, 150, 128])\n"
     ]
    }
   ],
   "source": [
    "test = dataset.make_loader(gridx,gridt,1, batchsize, start=0, train=True)"
   ]
  },
  {
   "cell_type": "code",
   "execution_count": 12,
   "id": "d2ecaf39-c2cd-447a-96ca-8948481b87c7",
   "metadata": {
    "tags": []
   },
   "outputs": [],
   "source": [
    "modelname = '/model/data-gaussian-pulse-10000.pt'\n",
    "model = torch.load(modelname)"
   ]
  },
  {
   "cell_type": "code",
   "execution_count": 13,
   "id": "377e69e2-146b-4041-9ca9-12dc8764b9d2",
   "metadata": {
    "tags": []
   },
   "outputs": [],
   "source": [
    "pred_out = []\n",
    "V_out = []\n",
    "true_out = []"
   ]
  },
  {
   "cell_type": "code",
   "execution_count": 14,
   "id": "1f925619-6f86-40f2-ac0c-d453fa4d71e5",
   "metadata": {
    "tags": []
   },
   "outputs": [
    {
     "name": "stdout",
     "output_type": "stream",
     "text": [
      "\n",
      "Testing...\n",
      "Done with prediction\n",
      "H1Loss:  0.1481720358133316\n",
      "mse:  0.006499815732240677\n",
      "\n"
     ]
    }
   ],
   "source": [
    "model.eval()\n",
    "H1 = H1Loss(d=2)\n",
    "test_h1 = 0.0\n",
    "test_mse = 0.0\n",
    "print()\n",
    "print('Testing...')\n",
    "with torch.no_grad():\n",
    "    for i, (x,v,y) in enumerate(test):\n",
    "        x = x.to(device).float()\n",
    "        y = y.to(device)\n",
    "        out = model(x).view(y.shape[0],y.shape[1],y.shape[2],y.shape[3])\n",
    "        mse = F.mse_loss(out, y, reduction='mean')\n",
    "        h1 = H1(out, y)\n",
    "            \n",
    "        pred_out.append(out)\n",
    "        V_out.append(v)\n",
    "        true_out.append(y)\n",
    "                \n",
    "        test_mse += mse.item()\n",
    "        test_h1 += h1.item()\n",
    "\n",
    "    print('Done with prediction')\n",
    "    print('H1Loss: ', test_h1)\n",
    "    print('mse: ', test_mse)\n",
    "    print()"
   ]
  },
  {
   "cell_type": "code",
   "execution_count": 17,
   "id": "8a3a6010-7ad2-486f-902c-5855820c6a2e",
   "metadata": {
    "tags": []
   },
   "outputs": [
    {
     "name": "stdout",
     "output_type": "stream",
     "text": [
      "saved video \n"
     ]
    }
   ],
   "source": [
    "x=pred_out[-1][0][0]\n",
    "x_true=true_out[-1][0][0]\n",
    "v1=V_out[-1][0]\n",
    "x_min, x_max = -90*np.pi/180, 90*np.pi/180\n",
    "x_size = len(pred_out[0][0][0][0])\n",
    "x_grid = np.linspace(x_min, x_max, x_size)\n",
    "\n",
    "t=comp_dyn(x_min,x_max,x_grid,x.cpu(),x_true.cpu(),v1, frames = len(x),play=False,dt=0.024189*2)\n",
    "writervideo = animation.FFMpegWriter(fps=20)\n",
    "t.save('/result/FNO_testing.mp4', writer = writervideo)\n",
    "print(\"saved video \")"
   ]
  }
 ],
 "metadata": {
  "kernelspec": {
   "display_name": "PyDeepLearning-2023.5",
   "language": "python",
   "name": "pydeeplearning"
  },
  "language_info": {
   "codemirror_mode": {
    "name": "ipython",
    "version": 3
   },
   "file_extension": ".py",
   "mimetype": "text/x-python",
   "name": "python",
   "nbconvert_exporter": "python",
   "pygments_lexer": "ipython3",
   "version": "3.10.4"
  }
 },
 "nbformat": 4,
 "nbformat_minor": 5
}
