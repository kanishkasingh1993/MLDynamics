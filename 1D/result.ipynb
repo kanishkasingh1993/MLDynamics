{
 "cells": [
  {
   "cell_type": "code",
   "execution_count": 1,
   "id": "1dc7eaff-7793-4373-a5f7-5a7bd60492df",
   "metadata": {
    "tags": []
   },
   "outputs": [],
   "source": [
    "import torch\n",
    "import torch.nn.functional as F\n",
    "import torch.nn as nn\n",
    "import numpy as np\n",
    "import matplotlib.pyplot as plt\n",
    "from matplotlib import animation\n",
    "%matplotlib inline\n",
    "%matplotlib widget\n",
    "import pickle\n",
    "#from plot_utils import comp_dyn\n",
    "from FourierGridMethod import Fourier_Grid,normalize_wfn,side_wp\n",
    "from simulation import potential,alpha, random_perturbation, chirped_pulse, complete_simulation\n",
    "import os\n",
    "cwd = os.getcwd()"
   ]
  },
  {
   "cell_type": "code",
   "execution_count": 2,
   "id": "07032f6f-50ca-490f-8251-337b480f2627",
   "metadata": {
    "tags": []
   },
   "outputs": [],
   "source": [
    "with open(cwd+'/result/MCMC-result.pickle', 'rb') as handle:\n",
    "    data_dict = pickle.load(handle)\n",
    "\n",
    "x_min=data_dict.get('x_min')\n",
    "x_max=data_dict.get('x_max')\n",
    "x_grid=data_dict.get('x_grid')\n",
    "D=data_dict.get('D')\n",
    "out=data_dict.get('out')\n",
    "V_tot_au=data_dict.get('V')"
   ]
  },
  {
   "cell_type": "code",
   "execution_count": 3,
   "id": "5558e2ce-11d3-4694-b571-ff054e4eb10f",
   "metadata": {
    "tags": []
   },
   "outputs": [],
   "source": [
    "x_min, x_max = -90*np.pi/180, 90*np.pi/180\n",
    "y_min, y_max = 0, 7.25\n",
    "x_size, y_size = 128, 300\n",
    "\n",
    "#Define x and y grids\n",
    "x_grid = np.linspace(x_min, x_max, x_size)\n",
    "y_grid = np.linspace(y_min, y_max, y_size)\n",
    "\n",
    "#Define meshgrid terms for 3D plots and making perturbations\n",
    "x_dim, t_dim = np.meshgrid(x_grid, y_grid)\n",
    "\n",
    "nstates=20\n",
    "#Scale for unit conversion to au\n",
    "ev_scale=1/(27.211*1e3)\n",
    "IBr=8911925\n",
    "IF=1864705\n",
    "Irel=(IBr*IF)/(IBr+IF)    \n",
    "\n",
    "#Generate the double well potential\n",
    "V_pot=potential(x_grid,y_grid)\n",
    "#coherence and variance in amplitude for term1\n",
    "phi_coh_x = 12.2\n",
    "phi_coh_y = 0.27\n",
    "phi_amp_var=11.9\n",
    "\n",
    "#Generate the n_v term and plot it. This term is in mev\n",
    "phi_perturb=random_perturbation(x_size,y_size,phi_coh_x,phi_coh_y,phi_amp_var)\n",
    "\n",
    "V = ev_scale*(V_pot)\n",
    "V_vib_au=ev_scale*(V_pot+phi_perturb)"
   ]
  },
  {
   "cell_type": "code",
   "execution_count": 4,
   "id": "2be310bb-b7ec-48b9-afe2-bd188a0e6fba",
   "metadata": {
    "tags": []
   },
   "outputs": [],
   "source": [
    "from scipy.integrate import simps\n",
    "from itertools import cycle\n",
    "import matplotlib.pyplot as plt\n",
    "from matplotlib import cm\n",
    "from matplotlib.animation import FuncAnimation\n",
    "import numpy as np"
   ]
  },
  {
   "cell_type": "code",
   "execution_count": 5,
   "id": "9fa5f1e9-a264-4a43-9adf-a1f089cc64e2",
   "metadata": {
    "tags": []
   },
   "outputs": [],
   "source": [
    "def truncate(n, decimals=0):\n",
    "    if n == 0:\n",
    "        x = '0.'\n",
    "        for i in range(decimals):\n",
    "            x += '0'\n",
    "        return x\n",
    "    multiplier = 10**decimals\n",
    "    return str(int(n * multiplier) / multiplier)"
   ]
  },
  {
   "cell_type": "code",
   "execution_count": 27,
   "id": "b0f4f002-4a4c-42cd-9c75-bf27009746e6",
   "metadata": {
    "tags": []
   },
   "outputs": [],
   "source": [
    "def comp_dyn(xmin, xmax, x, D, D_true, V, frames= 300, play=True, dt=0.024189):\n",
    "    # Create the figure\n",
    "    fs = 5\n",
    "    ts = 30\n",
    "    xLimits = [xmin, xmax]\n",
    "    yLimits = [0, 0.16]\n",
    "    dLimits = [0, 120]\n",
    "    fig, ax = plt.subplots(figsize=(10, 8), tight_layout=True)\n",
    "    ax.set_xlim(xLimits)\n",
    "    ax.set_ylim(yLimits)\n",
    "    ax.set_xlabel('$\\phi_d$ (degree)', fontsize = fs)\n",
    "    ax.set_ylabel(r\"$|\\psi|^2$\", fontsize = fs)\n",
    "    ax.grid()\n",
    "    \n",
    "    ax2 = ax.twinx()\n",
    "    ax.set_xlim(xLimits)\n",
    "    ax2.set_ylim(dLimits)\n",
    "    ax2.set_xlabel('$\\phi_d$ (degree)', fontsize = fs)\n",
    "    ax2.set_ylabel(r\"$V$ (meV)\", fontsize = fs)\n",
    "    plt.rc('xtick', labelsize=ts)  \n",
    "    plt.rc('ytick', labelsize=ts)  \n",
    "    # Plot the initial state of the function\n",
    "    line, = ax.plot(x, D[0], 'r-', label=\"FNO\", lw=2)\n",
    "    lineS2, = ax2.plot(x,V[0], 'b-', label=\"potential\", lw=2)\n",
    "    lineS3, = ax.plot(x,D_true[0], 'k-', label=\"Split-operator\", lw=2)\n",
    "\n",
    "    time_text = ax.text(0.1, 0.95, \"\",ha='left', va='top', transform=ax.transAxes,\n",
    "                         fontsize=25, color='red')\n",
    "    \n",
    "    #ax.get_xaxis().set_visible(False)\n",
    "    #fig.legend() \n",
    "    # Define the animation function\n",
    "    def animate(i):\n",
    "        f=i\n",
    "        line.set_ydata(D[f])\n",
    "        lineS2.set_ydata(V[f])\n",
    "        lineS3.set_ydata(D_true[f])\n",
    "        s = 't = '+ (\"%.3f\"%(dt*f))+' ps'\n",
    "        time_text.set_text(s)\n",
    "        return line, lineS2\n",
    "\n",
    "    # Create the animation\n",
    "    ani = FuncAnimation(fig, animate, frames=frames, interval=100, blit=False)\n",
    "    \n",
    "    if play==True:\n",
    "        # Show the animation\n",
    "        plt.show()\n",
    "    else:\n",
    "        plt.close()\n",
    "    \n",
    "    return ani"
   ]
  },
  {
   "cell_type": "code",
   "execution_count": 19,
   "id": "08412fc1-fac8-4c40-90db-83c2b9e5cee5",
   "metadata": {
    "tags": []
   },
   "outputs": [],
   "source": [
    "import scipy.integrate as integrate\n",
    "def normalize(psi, x, uniform = True):\n",
    "    int_psi_square = integrate.simps(psi, x)\n",
    "    return psi/int_psi_square"
   ]
  },
  {
   "cell_type": "code",
   "execution_count": 23,
   "id": "a023316a-a774-41d2-b078-546517885f21",
   "metadata": {
    "tags": []
   },
   "outputs": [],
   "source": [
    "normal_D = D\n",
    "normal_out = out\n",
    "for i in range(len(D)):\n",
    "    normal_D[i] = normalize(D[i], x_grid*(180/np.pi))\n",
    "    \n",
    "for i in range(len(out)):\n",
    "    normal_out[i] = normalize(out[i], x_grid*(180/np.pi))"
   ]
  },
  {
   "cell_type": "code",
   "execution_count": 30,
   "id": "318622b8-c81c-48b0-b988-3c551c829026",
   "metadata": {
    "tags": []
   },
   "outputs": [],
   "source": [
    "t=comp_dyn(x_min*(180/np.pi),x_max*(180/np.pi),x_grid*(180/np.pi),out,D,V/ev_scale, frames = 150,play=False,dt=0.0241667*2)\n",
    "writervideo = animation.FFMpegWriter(fps=20)"
   ]
  },
  {
   "cell_type": "code",
   "execution_count": 29,
   "id": "7b512359-ee33-4aa2-b956-978c6069d245",
   "metadata": {
    "tags": []
   },
   "outputs": [],
   "source": [
    "t.save(cwd+'/result/MCMC-result.mp4', writer = writervideo)"
   ]
  },
  {
   "cell_type": "code",
   "execution_count": null,
   "id": "f8a2fd81-4412-4c1d-b537-e31ab2edbc31",
   "metadata": {},
   "outputs": [],
   "source": [
    "model = torch.load(cwd+'/model/data-gaussian-pulse-10000.pt')\n",
    "sum(p.numel() for p in model.parameters() if p.requires_grad)"
   ]
  },
  {
   "cell_type": "code",
   "execution_count": null,
   "id": "108d68ee-1b66-456a-9ca7-50d3a2d55821",
   "metadata": {},
   "outputs": [],
   "source": [
    "from FNO2D import H1Loss"
   ]
  },
  {
   "cell_type": "code",
   "execution_count": null,
   "id": "c9ab919a-70e9-4ce9-a361-f2bcaff1656b",
   "metadata": {},
   "outputs": [],
   "source": [
    "myloss = H1Loss(d=2)"
   ]
  },
  {
   "cell_type": "code",
   "execution_count": null,
   "id": "76dfd087-f194-4edb-8f18-1ef495d048a6",
   "metadata": {
    "tags": []
   },
   "outputs": [],
   "source": [
    "myloss(D, out)"
   ]
  },
  {
   "cell_type": "code",
   "execution_count": null,
   "id": "20a43c34-bdfd-42f3-b3bb-c549ea7b8207",
   "metadata": {
    "tags": []
   },
   "outputs": [],
   "source": [
    "myloss(out,D)"
   ]
  },
  {
   "cell_type": "code",
   "execution_count": null,
   "id": "2efb9c68-fa69-4102-a15e-732c99ded2b3",
   "metadata": {
    "tags": []
   },
   "outputs": [],
   "source": [
    "torch.nn.functional.mse_loss(out, D, reduction='mean')"
   ]
  }
 ],
 "metadata": {
  "kernelspec": {
   "display_name": "PyDeepLearning-2023.5",
   "language": "python",
   "name": "pydeeplearning"
  },
  "language_info": {
   "codemirror_mode": {
    "name": "ipython",
    "version": 3
   },
   "file_extension": ".py",
   "mimetype": "text/x-python",
   "name": "python",
   "nbconvert_exporter": "python",
   "pygments_lexer": "ipython3",
   "version": "3.10.4"
  }
 },
 "nbformat": 4,
 "nbformat_minor": 5
}
