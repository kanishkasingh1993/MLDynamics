{
 "cells": [
  {
   "cell_type": "code",
   "execution_count": 1,
   "id": "50804ecc-7aae-4723-b6ca-76af38fb119e",
   "metadata": {},
   "outputs": [],
   "source": [
    "import torch\n",
    "import torch.nn.functional as F\n",
    "import torch.nn as nn\n",
    "import numpy as np\n",
    "import matplotlib.pyplot as plt\n",
    "import scipy.stats as stats\n",
    "import time\n",
    "%matplotlib inline\n",
    "from FNO2D import FNO2d\n",
    "from FourierGridMethod import Fourier_Grid,normalize_wfn,side_wp\n",
    "from simulation import potential,alpha, random_perturbation, chirped_pulse, complete_simulation\n",
    "from bayesian import likelihood\n",
    "import pickle\n",
    "import os\n",
    "cwd = os.getcwd()"
   ]
  },
  {
   "cell_type": "code",
   "execution_count": 2,
   "id": "6fc4824c-1784-47f0-a390-95d47163fd76",
   "metadata": {},
   "outputs": [],
   "source": [
    "# setting random for the nosie\n",
    "random_seed = 1\n",
    "torch.manual_seed(random_seed)\n",
    "torch.cuda.manual_seed(random_seed)\n",
    "torch.backends.cudnn.deterministic = True\n",
    "torch.backends.cudnn.benchmark = False\n",
    "np.random.seed(random_seed)\n",
    "\n",
    "modelname = cwd+'/model/data-gaussian-pulse-10000.pt'\n",
    "model = torch.load(modelname)\n",
    "device = torch.device(\"cuda:2\" if torch.cuda.is_available() else \"cpu\")"
   ]
  },
  {
   "cell_type": "code",
   "execution_count": 3,
   "id": "b29a2f39-9f57-41ec-a27b-32851b21c465",
   "metadata": {},
   "outputs": [],
   "source": [
    "def plot_intensity(y_grid, params):\n",
    "    elec_pulse = chirped_pulse(y_grid, params['A0'], params['t0'], params['sig'], params['f0'], params['beta'], np.pi)\n",
    "    c = 299792458\n",
    "    e0 = 8.85418782e-12\n",
    "    E = 5.14220674763e9\n",
    "    intensity = 0.5*e0*c*(E*elec_pulse)**2\n",
    "    plt.close()\n",
    "    plt.title('Laser pulse intensity versus time')\n",
    "    plt.xlabel('time (ps)')\n",
    "    plt.ylabel('intensity TW/cm$^{-2}$')\n",
    "    plt.plot(y_grid, intensity/1e12)\n",
    "    plt.savefig(cwd+'/picture/intensity-FNO.png')\n",
    "    plt.show()"
   ]
  },
  {
   "cell_type": "markdown",
   "id": "c0675500-3115-4040-9616-e12b30ad4698",
   "metadata": {
    "tags": []
   },
   "source": [
    "# parameters"
   ]
  },
  {
   "cell_type": "code",
   "execution_count": 4,
   "id": "e9650f74-c8a8-4827-b972-7065cb385abb",
   "metadata": {},
   "outputs": [],
   "source": [
    "n_iterations = 10000\n",
    "burn_in = 1000\n",
    "\n",
    "param_1 = 0.019527390846138085 # initial value for the first field parameter A0\n",
    "param_2 = 0.07998492062926205 # initial value for the second field parameter sig\n",
    "param_3 = 1.457428641843488 #initial value of third parameter \n",
    "params = [param_1, param_2,param_3] # current parameter values\n",
    "\n",
    "# Define the range bounds for the parameters\n",
    "param_1_bounds = [0.0100, 0.0238] #A0 (au)\n",
    "param_2_bounds = [0.05, 0.10] #f0\n",
    "param_3_bounds = [1.00, 3.00] #sigma\n",
    "\n",
    "#print(*stats.norm.fit(param_1_bounds),np.std(param_1_bounds),np.mean(param_1_bounds))\n",
    "#mu1,std1=stats.norm.fit(param_1_bounds)\n",
    "# Define the prior distribution for the field parameters\n",
    "param_1_prior = stats.truncnorm((param_1_bounds[0] - np.mean(param_1_bounds)) / np.std(param_1_bounds),\n",
    "                                (param_1_bounds[1] - np.mean(param_1_bounds)) / np.std(param_1_bounds),\n",
    "                                loc=np.mean(param_1_bounds),\n",
    "                                scale=np.std(param_1_bounds))\n",
    "param_2_prior = stats.truncnorm((param_2_bounds[0] - np.mean(param_2_bounds)) / np.std(param_2_bounds),\n",
    "                                (param_2_bounds[1] - np.mean(param_2_bounds)) / np.std(param_2_bounds),\n",
    "                                loc=np.mean(param_2_bounds),\n",
    "                                scale=np.std(param_2_bounds))\n",
    "param_3_prior = stats.truncnorm((param_3_bounds[0] - np.mean(param_3_bounds)) / np.std(param_3_bounds),\n",
    "                                (param_3_bounds[1] - np.mean(param_3_bounds)) / np.std(param_3_bounds),\n",
    "                                loc=np.mean(param_3_bounds),\n",
    "                                scale=np.std(param_3_bounds))\n",
    "\n",
    "# Initialize the acceptance counter\n",
    "accept_counter = 0\n",
    "choose_score = 0\n",
    "# Initialize the parameter trace\n",
    "param_trace = np.zeros((n_iterations, 3))\n",
    "score_trace = np.zeros((n_iterations))"
   ]
  },
  {
   "cell_type": "markdown",
   "id": "4b32d9d2-b3fa-4157-a1c1-a0042754354c",
   "metadata": {},
   "source": [
    "# Get the starting and target state by FourierGridMethod"
   ]
  },
  {
   "cell_type": "code",
   "execution_count": 5,
   "id": "30d0ef5e-7165-4212-8662-fe980b929357",
   "metadata": {},
   "outputs": [],
   "source": [
    "#Setting variables for the simulation\n",
    "#the hamiltonian for the system is \n",
    "\n",
    "# Define the x and y coordinates of the grid\n",
    "\n",
    "x_min, x_max = -90*np.pi/180, 90*np.pi/180\n",
    "y_min, y_max = 0, 7.25\n",
    "x_size, y_size = 128, 300\n",
    "\n",
    "#Define x and y grids\n",
    "x_grid = np.linspace(x_min, x_max, x_size)\n",
    "y_grid = np.linspace(y_min, y_max, y_size)\n",
    "\n",
    "#Define meshgrid terms for 3D plots and making perturbations\n",
    "x_dim, t_dim = np.meshgrid(x_grid, y_grid)\n",
    "\n",
    "nstates=20\n",
    "#Scale for unit conversion to au\n",
    "ev_scale=1/(27.211*1e3)\n",
    "IBr=8911925\n",
    "IF=1864705\n",
    "Irel=(IBr*IF)/(IBr+IF)    \n",
    "\n",
    "#Generate the double well potential\n",
    "V_pot=potential(x_grid,y_grid)\n",
    "#coherence and variance in amplitude for term1\n",
    "phi_coh_x = 12.2\n",
    "phi_coh_y = 0.27\n",
    "phi_amp_var=11.9\n",
    "\n",
    "#Generate the n_v term and plot it. This term is in mev\n",
    "phi_perturb=random_perturbation(x_size,y_size,phi_coh_x,phi_coh_y,phi_amp_var)\n",
    "\n",
    "V_vib_meV=V_pot+phi_perturb\n",
    "V_vib_au=ev_scale*(V_pot+phi_perturb)\n",
    "\n",
    "E0,psi0=Fourier_Grid(Irel,x_size,x_max-x_min,V_vib_au[0])\n",
    "test_wf=normalize_wfn(psi0,x_grid,5)\n",
    "    \n",
    "psi_start=side_wp(psi0,-1)\n",
    "psi_start = psi_start\n",
    "psi_ref=psi_start[::-1]\n",
    "alpha_1=np.vectorize(alpha)(x_grid)\n",
    "\n",
    "pot_params={'psi_start':torch.from_numpy(psi_start**2),'psi_ref':torch.from_numpy((psi_ref**2).copy()),'V_vib':V_vib_au,'alpha':alpha_1, 'I_rel': Irel}\n"
   ]
  },
  {
   "cell_type": "code",
   "execution_count": 6,
   "id": "7bc29376-43c2-4601-9ec3-837cdbe1aa1e",
   "metadata": {},
   "outputs": [
    {
     "data": {
      "image/png": "[encoded data removed]",
      "text/plain": [
       "<Figure size 640x480 with 1 Axes>"
      ]
     },
     "metadata": {},
     "output_type": "display_data"
    }
   ],
   "source": [
    "#checking the starting state\n",
    "plt.close()\n",
    "plt.plot(x_grid, psi_start)\n",
    "plt.title('initial state')\n",
    "plt.ylabel('$|\\psi|^2$')\n",
    "plt.xlabel('$\\phi_d$ (rad)')\n",
    "plt.xlim([-3.14/2,3.14/2])\n",
    "plt.show()"
   ]
  },
  {
   "cell_type": "markdown",
   "id": "0488377b-5ef0-413e-bbcf-3e1eb57a1a71",
   "metadata": {},
   "source": [
    "# MCMC on FNO"
   ]
  },
  {
   "cell_type": "code",
   "execution_count": 7,
   "id": "ce22dcd3-968b-4e26-b72a-bb9ad6b3e7c4",
   "metadata": {},
   "outputs": [],
   "source": [
    "nx = len(x_grid)\n",
    "nt = len(y_grid[::2])\n",
    "gridx = torch.from_numpy(x_grid).reshape(1, 1, nx)\n",
    "gridy = torch.from_numpy(y_grid[::2]).reshape(1, nt, 1)\n",
    "x1=gridx.repeat([1, nt, 1])\n",
    "t1=gridy.repeat([1, 1, nx])"
   ]
  },
  {
   "cell_type": "code",
   "execution_count": 8,
   "id": "40ef25f5-04ed-446b-b7f5-33a83957e106",
   "metadata": {},
   "outputs": [],
   "source": [
    "# Define the acceptance function\n",
    "def acceptance(model, current_params, prop_params,x1,t1,param_1_prior,param_2_prior,param_3_prior,pot_params):\n",
    "    def predict(model, x, psi_ref):\n",
    "        model.eval()\n",
    "        with torch.no_grad():\n",
    "            x = x.to(device).float()\n",
    "            out = model(x).view(1,1,150,x_size)\n",
    "            psit = out[0][0][-1]\n",
    "            mse = torch.nn.functional.mse_loss(psi_ref,psit.cpu())\n",
    "            if mse < 0:\n",
    "                mse = 1\n",
    "            curr_score = 1 - mse\n",
    "        return curr_score\n",
    "    t0=0.0\n",
    "    beta = 0.1\n",
    "    \n",
    "    A0_prop = prop_params[0]    \n",
    "    f0_prop = prop_params[1]\n",
    "    sig_prop = prop_params[2]\n",
    "    A0_curr = current_params[0]\n",
    "    f0_curr = current_params[1]\n",
    "    sig_curr = current_params[2]\n",
    "    \n",
    "    psi_start=pot_params.get('psi_start',1)\n",
    "    psi_ref=pot_params.get('psi_ref',2)\n",
    "    V_vib=pot_params.get('V_vib',3)\n",
    "    alpha_1=pot_params.get('alpha',4)\n",
    "    phi = np.pi\n",
    "    \n",
    "    elec_f_curr = chirped_pulse(t_dim, A0_curr, t0, sig_curr, f0_curr, beta, phi)\n",
    "    elec_f_prop = chirped_pulse(t_dim, A0_prop, t0, sig_prop, f0_prop, beta, phi)\n",
    "    V_curr = torch.from_numpy((V_vib-0.25*(elec_f_curr**2)*(alpha_1))*100000)\n",
    "    V_curr = V_curr[::2,:]\n",
    "    V_curr = V_curr.repeat([1,1,1])\n",
    "    V_prop = torch.from_numpy((V_vib-0.25*(elec_f_prop**2)*(alpha_1))*100000)\n",
    "    V_prop = V_prop[::2,:]\n",
    "    V_prop = V_prop.repeat([1,1,1])\n",
    "    \n",
    "    psi_start = psi_start.reshape(1, 1, nx)\n",
    "    psi_start = psi_start.repeat([1, nt,1])\n",
    "    \n",
    "    curr_x = torch.stack([V_curr, psi_start, t1, x1], dim=1)\n",
    "    prop_x = torch.stack([V_prop, psi_start, t1, x1], dim=1)\n",
    "    \n",
    "    curr_score=predict(model, curr_x, psi_ref)\n",
    "    prop_score=predict(model, prop_x, psi_ref)\n",
    "    \n",
    "    curr_likelihood = likelihood(curr_score)\n",
    "    prop_likelihood = likelihood(prop_score)\n",
    "    \n",
    "    prior_current = np.prod([param_1_prior.pdf(current_params[0]), param_2_prior.pdf(current_params[1]), param_3_prior.pdf(current_params[2])])\n",
    "    prior_proposed = np.prod([param_1_prior.pdf(prop_params[0]), param_2_prior.pdf(prop_params[1]), param_3_prior.pdf(prop_params[2])])\n",
    "    \n",
    "    return min(1, (prop_likelihood * prior_proposed) / (curr_likelihood * prior_current)), prop_score, curr_score"
   ]
  },
  {
   "cell_type": "code",
   "execution_count": 9,
   "id": "ac46a793-b481-4d43-b45f-7bd7445bd82d",
   "metadata": {},
   "outputs": [],
   "source": [
    "#param_1 = 0.019927467186978617 # initial value for the first field parameter A0\n",
    "#param_2 = 0.0948961733916297 # initial value for the second field parameter sig\n",
    "#param_3 = 1.5225027541551555 #initial value of third parameter \n",
    "#params = [param_1, param_2,param_3] # current parameter values\n",
    "\n",
    "param_1 = 0.019527390846138085 # initial value for the first field parameter A0\n",
    "param_2 = 0.07998492062926205 # initial value for the second field parameter sig\n",
    "param_3 = 1.457428641843488 #initial value of third parameter \n",
    "params = [param_1, param_2,param_3] # current parameter values"
   ]
  },
  {
   "cell_type": "code",
   "execution_count": 10,
   "id": "cc6641e1-7d0c-42c8-aa59-d06f7bcedf17",
   "metadata": {},
   "outputs": [
    {
     "name": "stdout",
     "output_type": "stream",
     "text": [
      "start MCMC...\n",
      "Running iterations:  1000 ;     current score (mse):  0.9539075937734302\n",
      "Running iterations:  2000 ;     current score (mse):  0.9727967607957108\n",
      "Running iterations:  3000 ;     current score (mse):  0.9783953435417245\n",
      "Running iterations:  4000 ;     current score (mse):  0.9130302505474566\n",
      "Running iterations:  5000 ;     current score (mse):  0.935275952782266\n",
      "Running iterations:  6000 ;     current score (mse):  0.8236148632053091\n",
      "Running iterations:  7000 ;     current score (mse):  0.9175147087942048\n",
      "Running iterations:  8000 ;     current score (mse):  0.7281371862583653\n",
      "Running iterations:  9000 ;     current score (mse):  0.9715407151719206\n",
      "Done!\n",
      "\n",
      "total running time oer iternations (GPU):  36.252634375 ms/iteration\n",
      "CPU times: user 6min 1s, sys: 1.1 s, total: 6min 2s\n",
      "Wall time: 6min 2s\n"
     ]
    }
   ],
   "source": [
    "%%time\n",
    "print('start MCMC...')\n",
    "\n",
    "start = torch.cuda.Event(enable_timing=True)\n",
    "end = torch.cuda.Event(enable_timing=True)\n",
    "start.record() \n",
    "\n",
    "for i in range(n_iterations):\n",
    "    proposed_params = prior(param_1_prior,param_2_prior,param_3_prior)\n",
    "    if i%1000 ==0 and i != 0:\n",
    "        print(\"Running iterations: \", i, \";     current score (mse): \", choose_score.item())\n",
    "    acceptance_prob,prop_score,curr_score = acceptance(model, params, proposed_params,x1,t1,param_1_prior,param_2_prior,param_3_prior,pot_params)\n",
    "    \n",
    "    # Accept or reject the proposal\n",
    "    if np.random.uniform() < acceptance_prob:\n",
    "        params = proposed_params # accept the proposal\n",
    "        choose_score=prop_score\n",
    "        accept_counter += 1\n",
    "    else:\n",
    "        params = params # reject the proposal\n",
    "        choose_score=curr_score\n",
    "    \n",
    "    # Record the current parameter values\n",
    "    param_trace[i,:] = params\n",
    "    score_trace[i]=choose_score\n",
    "\n",
    "end.record() \n",
    "torch.cuda.synchronize()\n",
    "\n",
    "print('Done!')\n",
    "print()\n",
    "print('total running time oer iternations (GPU): ', start.elapsed_time(end)/n_iterations, 'ms/iteration')"
   ]
  },
  {
   "cell_type": "markdown",
   "id": "098975e7-ee72-4e80-85b7-034d356892ae",
   "metadata": {
    "tags": []
   },
   "source": [
    "# Evaluation"
   ]
  },
  {
   "cell_type": "code",
   "execution_count": 11,
   "id": "804dcaa1-3dd4-4482-b2b7-a63c91f3bce9",
   "metadata": {},
   "outputs": [
    {
     "data": {
      "image/png": "[encoded data removed]",
      "text/plain": [
       "<Figure size 640x480 with 1 Axes>"
      ]
     },
     "metadata": {},
     "output_type": "display_data"
    }
   ],
   "source": [
    "plt.close()\n",
    "x=np.arange(0,n_iterations)\n",
    "plt.plot(x, score_trace, ls=\"-\", c=\"k\", lw=2, label=\"$score$\")\n",
    "plt.xlabel('iterations')\n",
    "plt.ylabel('score')\n",
    "plt.title('score versus iterations')\n",
    "plt.savefig(cwd+'/picture/MCMC-FNO.png')\n",
    "\n",
    "plt.show()"
   ]
  },
  {
   "cell_type": "code",
   "execution_count": 12,
   "id": "e5e496fd-4715-43cd-9807-be581363c8fd",
   "metadata": {},
   "outputs": [
    {
     "name": "stdout",
     "output_type": "stream",
     "text": [
      "Highest score:  0.9783953435417245\n"
     ]
    }
   ],
   "source": [
    "print('Highest score: ', max(score_trace))"
   ]
  },
  {
   "cell_type": "code",
   "execution_count": 13,
   "id": "55897b65-e2fd-4f7d-aef2-07283b2d59be",
   "metadata": {
    "tags": []
   },
   "outputs": [
    {
     "name": "stdout",
     "output_type": "stream",
     "text": [
      "Max score params:  {'sig': 1.4917496543158486, 't0': 0, 'beta': 0.1, 'A0': 0.018581409975267565, 'f0': 0.06512969791688951}\n"
     ]
    }
   ],
   "source": [
    "max_param = param_trace[np.argmax(score_trace)]\n",
    "max_param = {'sig':max_param[2],'t0':0,'beta':0.1,'A0':max_param[0],'f0':max_param[1]}\n",
    "print('Max score params: ', max_param)"
   ]
  },
  {
   "cell_type": "code",
   "execution_count": 14,
   "id": "4cc2af09-5037-4e77-bde4-0a430143f82c",
   "metadata": {
    "tags": []
   },
   "outputs": [],
   "source": [
    "pot_params={'psi_start':psi_start,'psi_ref':psi_ref.copy(),'V_vib':V_vib_au,'alpha':alpha_1, 'I_rel': Irel}\n"
   ]
  },
  {
   "cell_type": "code",
   "execution_count": 15,
   "id": "06b79ed3-92b1-45bb-a936-76571efa943b",
   "metadata": {},
   "outputs": [
    {
     "name": "stdout",
     "output_type": "stream",
     "text": [
      "overlap score:  0.46538850514760005\n",
      "mse score:  tensor(0.9252, dtype=torch.float64)\n"
     ]
    },
    {
     "data": {
      "image/png": "[encoded data removed]",
      "text/plain": [
       "<Figure size 640x480 with 1 Axes>"
      ]
     },
     "metadata": {},
     "output_type": "display_data"
    }
   ],
   "source": [
    "U,D,ux,V_tot_au = complete_simulation(x_grid,y_grid,pot_params,max_param, timestep=1000, MCMC=False)\n",
    "print('overlap score: ', complete_simulation(x_grid,y_grid,pot_params,max_param, timestep=1000, MCMC=True))\n",
    "print('mse score: ', complete_simulation(x_grid,y_grid,pot_params,max_param, timestep=1000, MCMC=True, overlap=False))\n",
    "\n",
    "all_expect_pos = np.zeros(300)\n",
    "Prob_den = D\n",
    "dx = (x_max-x_min)/128\n",
    "for i in range(300):\n",
    "    Expect_pos = 0\n",
    "    for j, x in enumerate(x_grid):\n",
    "        expected = x*(Prob_den[i][j])*dx\n",
    "        Expect_pos += expected\n",
    "    all_expect_pos[i] = Expect_pos\n",
    "\n",
    "plt.close()\n",
    "plt.plot(y_grid, all_expect_pos)\n",
    "plt.title('<$\\phi_d$>$_{|\\psi>}$ versus time')\n",
    "plt.xlabel('time (ps)')\n",
    "plt.ylim([x_min, x_max])\n",
    "plt.ylabel('$\\phi_d$ (rad)')\n",
    "plt.savefig(cwd+'/picture/MCMC-FNO-max-expected.png')\n",
    "plt.show()"
   ]
  },
  {
   "cell_type": "code",
   "execution_count": 18,
   "id": "2a4ba183-ce39-4226-8b04-0240fcff96f5",
   "metadata": {},
   "outputs": [
    {
     "name": "stdout",
     "output_type": "stream",
     "text": [
      "MCMC parmas:  {'sig': 1.7967967967967968, 't0': 0, 'beta': 0.1, 'A0': 0.017721921921921922, 'f0': 0.06456456456456457}\n"
     ]
    }
   ],
   "source": [
    "# Define the thinning factor\n",
    "thin_factor = 1000\n",
    "burn_in = 2000\n",
    "#remove the burn in samples\n",
    "tmp=param_trace[burn_in::]\n",
    "# Thin the parameter trace\n",
    "thinned_trace = tmp[::thin_factor]\n",
    "\n",
    "kde = stats.gaussian_kde(thinned_trace.T)\n",
    "\n",
    "x_range = np.linspace(0.01, 0.0238, 1000)\n",
    "y_range = np.linspace(0.00, 0.15, 1000)\n",
    "p_range = np.linspace(1.00, 3.00, 1000)\n",
    "\n",
    "# Evaluate the posterior distribution on the range of values\n",
    "xx, yy, pp = np.meshgrid(x_range, y_range, p_range)\n",
    "pos = np.vstack([xx.ravel(), yy.ravel(), pp.ravel()])\n",
    "z = np.reshape(kde(pos).T, xx.shape)\n",
    "\n",
    "# Find the maximum of the posterior distribution\n",
    "max_idx = np.argmax(z)\n",
    "max_x = pos[0][max_idx]\n",
    "max_y = pos[1][max_idx]\n",
    "max_pp = pos[2][max_idx]\n",
    "max_z = z.ravel()[max_idx]\n",
    "\n",
    "MCMC_params = {'sig':max_pp,'t0':0,'beta':0.1,'A0':max_x,'f0':max_y}\n",
    "print('MCMC parmas: ', MCMC_params)"
   ]
  },
  {
   "cell_type": "code",
   "execution_count": 19,
   "id": "e90bc564-23b6-4ed7-badd-286ca7527d56",
   "metadata": {},
   "outputs": [
    {
     "name": "stdout",
     "output_type": "stream",
     "text": [
      "overlap score:  0.7828035431057666\n",
      "mse score:  tensor(0.8516, dtype=torch.float64)\n"
     ]
    },
    {
     "data": {
      "image/png": "[encoded data removed]",
      "text/plain": [
       "<Figure size 640x480 with 1 Axes>"
      ]
     },
     "metadata": {},
     "output_type": "display_data"
    }
   ],
   "source": [
    "U,D,ux,V_tot_au = complete_simulation(x_grid,y_grid,pot_params,MCMC_params, timestep=1000, MCMC=False)\n",
    "print('overlap score: ', complete_simulation(x_grid,y_grid,pot_params,MCMC_params, timestep=1000, MCMC=True))\n",
    "print('mse score: ', complete_simulation(x_grid,y_grid,pot_params,MCMC_params, timestep=1000, MCMC=True, overlap=False))\n",
    "\n",
    "all_expect_pos_sp = np.zeros(300)\n",
    "Prob_den = D\n",
    "dx = (x_max-x_min)/128\n",
    "for i in range(300):\n",
    "    Expect_pos = 0\n",
    "    for j, x in enumerate(x_grid):\n",
    "        expected = x*(Prob_den[i][j])*dx\n",
    "        Expect_pos += expected\n",
    "    all_expect_pos_sp[i] = Expect_pos\n",
    "\n",
    "plt.close()\n",
    "plt.plot(y_grid, all_expect_pos_sp)\n",
    "plt.title('<$\\phi_d$>$_{|\\psi>}$ versus time')\n",
    "plt.xlabel('time (ps)')\n",
    "plt.ylim([x_min, x_max])\n",
    "plt.ylabel('$\\phi_d$ (rad)')\n",
    "plt.savefig(cwd+'/picture/MCMC-FNO-MCMC-expected.png')\n",
    "plt.show()"
   ]
  },
  {
   "cell_type": "code",
   "execution_count": 21,
   "id": "9ea53651-3206-40e7-bd57-f40c5bc8f2a9",
   "metadata": {
    "tags": []
   },
   "outputs": [],
   "source": [
    "MCMC_params = {'sig':max_pp,'t0':0,'beta':0.1,'A0':max_x,'f0':max_y}\n",
    "A0 = MCMC_params['A0']\n",
    "t0 = MCMC_params['t0']\n",
    "f0 = MCMC_params['f0']\n",
    "beta= MCMC_params['beta']\n",
    "sig = MCMC_params['sig']\n",
    "phi = np.pi\n",
    "V_vib = pot_params['V_vib']\n",
    "\n",
    "elec_f = chirped_pulse(t_dim, A0, t0, sig, f0, beta, phi)\n",
    "V_curr = torch.from_numpy((V_vib-0.25*(elec_f**2)*(alpha_1))*100000)\n",
    "V_curr = V_curr[::2,:]\n",
    "V_curr = V_curr.repeat([1,1,1])\n",
    "\n",
    "psi_start = pot_params['psi_start']\n",
    "psi_start = psi_start.reshape(1, 1, 128)\n",
    "psi_start = torch.from_numpy(psi_start)\n",
    "psi_start = psi_start.repeat([1, 150, 1])\n",
    "    \n",
    "x = torch.stack([V_curr, psi_start, t1, x1], dim=1)\n",
    "with torch.no_grad():\n",
    "    x = x.to(device).float()\n",
    "    out = model(x).view(1,1,150,x_size)\n"
   ]
  },
  {
   "cell_type": "code",
   "execution_count": 24,
   "id": "0edaee57-38e1-4572-8ed1-389f573f039c",
   "metadata": {
    "tags": []
   },
   "outputs": [],
   "source": [
    "MCMC_result = {'x_min': x_min, 'x_max': x_max, 'x_grid': x_grid, 'D': D[::2], 'out': out[0][0].cpu(), 'V': V_tot_au}"
   ]
  },
  {
   "cell_type": "code",
   "execution_count": 27,
   "id": "6edc1d1c-98c9-4acb-afb1-e83af23eebb8",
   "metadata": {
    "tags": []
   },
   "outputs": [],
   "source": [
    "with open(cwd+'/result/MCMC-result.pickle', 'wb') as handle:\n",
    "    pickle.dump(MCMC_result, handle, protocol=pickle.HIGHEST_PROTOCOL)"
   ]
  }
 ],
 "metadata": {
  "kernelspec": {
   "display_name": "mltutorial",
   "language": "python",
   "name": "mltutorial"
  },
  "language_info": {
   "codemirror_mode": {
    "name": "ipython",
    "version": 3
   },
   "file_extension": ".py",
   "mimetype": "text/x-python",
   "name": "python",
   "nbconvert_exporter": "python",
   "pygments_lexer": "ipython3",
   "version": "3.8.18"
  }
 },
 "nbformat": 4,
 "nbformat_minor": 5
}
